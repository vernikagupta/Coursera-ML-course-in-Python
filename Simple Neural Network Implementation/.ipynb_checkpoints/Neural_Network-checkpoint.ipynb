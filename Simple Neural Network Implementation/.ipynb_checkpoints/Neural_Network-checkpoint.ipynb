{
 "cells": [
  {
   "cell_type": "code",
   "execution_count": 1,
   "metadata": {},
   "outputs": [],
   "source": [
    "import numpy as np"
   ]
  },
  {
   "cell_type": "code",
   "execution_count": 2,
   "metadata": {},
   "outputs": [],
   "source": [
    "X = np.array([[1,0,1,0],[1,0,1,1],[0,1,0,1]])\n",
    "y = np.array(([[1],[1],[0]]))"
   ]
  },
  {
   "cell_type": "code",
   "execution_count": 4,
   "metadata": {},
   "outputs": [
    {
     "data": {
      "text/plain": [
       "array([[1, 0, 1, 0],\n",
       "       [1, 0, 1, 1],\n",
       "       [0, 1, 0, 1]])"
      ]
     },
     "execution_count": 4,
     "metadata": {},
     "output_type": "execute_result"
    }
   ],
   "source": [
    "X"
   ]
  },
  {
   "cell_type": "code",
   "execution_count": 5,
   "metadata": {},
   "outputs": [],
   "source": [
    "# variable Initialization\n",
    "epoch = 5000\n",
    "alpha = 0.1 # learning rate\n",
    "inputlayer_neuron = X.shape[1]\n",
    "hiddenlayer_neuron = 3\n",
    "output_neuron = 1"
   ]
  },
  {
   "cell_type": "code",
   "execution_count": 7,
   "metadata": {},
   "outputs": [
    {
     "data": {
      "text/plain": [
       "0.5"
      ]
     },
     "execution_count": 7,
     "metadata": {},
     "output_type": "execute_result"
    }
   ],
   "source": [
    "# activation function sigmoid\n",
    "def sig(x):\n",
    "    return (1/(1+np.exp(-x)))\n",
    "sig(0)"
   ]
  },
  {
   "cell_type": "code",
   "execution_count": 8,
   "metadata": {},
   "outputs": [],
   "source": [
    "# derivative of sigmoid\n",
    "def derivative_sig(x):\n",
    "    return x * (1-x)"
   ]
  },
  {
   "cell_type": "code",
   "execution_count": 28,
   "metadata": {},
   "outputs": [],
   "source": [
    "# weights and bias initialization\n",
    "wh = np.random.uniform(size = (inputlayer_neuron, hiddenlayer_neuron))\n",
    "bh = np.random.uniform(size = (1, hiddenlayer_neuron))\n",
    "# initialize weights for hidden layer to map from hidden layer to output layer\n",
    "wout = np.random.uniform(size = (hiddenlayer_neuron, output_neuron))\n",
    "bout = np.random.uniform(size = (1, output_neuron))"
   ]
  },
  {
   "cell_type": "code",
   "execution_count": 43,
   "metadata": {},
   "outputs": [
    {
     "name": "stdout",
     "output_type": "stream",
     "text": [
      "[[0.98594979]\n",
      " [0.9817954 ]\n",
      " [0.02489299]]\n"
     ]
    }
   ],
   "source": [
    "for i in range(epoch):\n",
    "\n",
    "    #Forward Propagation\n",
    "\n",
    "    hiddenlayer_input = np.dot(X,wh) + bh\n",
    "    hiddenlayer_activation = sig(hiddenlayer_input)\n",
    "    outputlayer_input = np.dot(hiddenlayer_activation, wout) + bout\n",
    "    output = sig(outputlayer_input)\n",
    "    \n",
    "    #Backpropagation\n",
    "    \n",
    "    error_at_output_layer = y - output\n",
    "    \n",
    "    # propagation of error from output to hidden layer\n",
    "    slope_output_layer = derivative_sig(output)\n",
    "    delta_output = error_at_output_layer * slope_output_layer\n",
    "    error_at_hidden_layer = np.dot(delta_output, wout.T)\n",
    "    \n",
    "    # propagation of error from hidden layer to input layer\n",
    "    slope_hidden_layer = derivative_sig(hiddenlayer_activation)\n",
    "    delta_hiddenlayer = error_at_hidden_layer * slope_hidden_layer\n",
    "    \n",
    "    # update weights\n",
    "    wout = wout + np.dot(hiddenlayer_activation.T, delta_output) * alpha\n",
    "    wh = wh + np.dot(X.T, delta_hiddenlayer) * alpha\n",
    "    \n",
    "    # update bias\n",
    "    bout = bout + np.sum(delta_output, axis = 0, keepdims=True) * alpha\n",
    "    bh = bh + np.sum(delta_hiddenlayer, axis =0, keepdims= True) * alpha\n",
    "print(output)"
   ]
  }
 ],
 "metadata": {
  "kernelspec": {
   "display_name": "Python 3",
   "language": "python",
   "name": "python3"
  },
  "language_info": {
   "codemirror_mode": {
    "name": "ipython",
    "version": 3
   },
   "file_extension": ".py",
   "mimetype": "text/x-python",
   "name": "python",
   "nbconvert_exporter": "python",
   "pygments_lexer": "ipython3",
   "version": "3.6.5"
  }
 },
 "nbformat": 4,
 "nbformat_minor": 2
}
