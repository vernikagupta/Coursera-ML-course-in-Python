{
 "cells": [
  {
   "cell_type": "markdown",
   "metadata": {},
   "source": [
    "you will implement regularized logistic regression\n",
    "to predict whether microchips from a fabrication plant passes quality assur-\n",
    "ance (QA). During QA, each microchip goes through various tests to ensure\n",
    "it is functioning correctly.\n",
    "Suppose you are the product manager of the factory and you have the\n",
    "test results for some microchips on two di\u000b",
    "erent tests. From these two tests,\n",
    "you would like to determine whether the microchips should be accepted or\n",
    "rejected. To help you make the decision, you have a dataset of test results\n",
    "on past microchips, from which you can build a logistic regression model."
   ]
  },
  {
   "cell_type": "code",
   "execution_count": 1,
   "metadata": {},
   "outputs": [],
   "source": [
    "#import libraries\n",
    "import pandas as pd\n",
    "import numpy as np\n",
    "import matplotlib.pyplot as plt\n",
    "import scipy.optimize as opt    # to minimize cost function"
   ]
  },
  {
   "cell_type": "code",
   "execution_count": 2,
   "metadata": {},
   "outputs": [
    {
     "data": {
      "text/html": [
       "<div>\n",
       "<style scoped>\n",
       "    .dataframe tbody tr th:only-of-type {\n",
       "        vertical-align: middle;\n",
       "    }\n",
       "\n",
       "    .dataframe tbody tr th {\n",
       "        vertical-align: top;\n",
       "    }\n",
       "\n",
       "    .dataframe thead th {\n",
       "        text-align: right;\n",
       "    }\n",
       "</style>\n",
       "<table border=\"1\" class=\"dataframe\">\n",
       "  <thead>\n",
       "    <tr style=\"text-align: right;\">\n",
       "      <th></th>\n",
       "      <th>test1</th>\n",
       "      <th>test2</th>\n",
       "      <th>passed/failed</th>\n",
       "    </tr>\n",
       "  </thead>\n",
       "  <tbody>\n",
       "    <tr>\n",
       "      <th>0</th>\n",
       "      <td>0.051267</td>\n",
       "      <td>0.69956</td>\n",
       "      <td>1</td>\n",
       "    </tr>\n",
       "    <tr>\n",
       "      <th>1</th>\n",
       "      <td>-0.092742</td>\n",
       "      <td>0.68494</td>\n",
       "      <td>1</td>\n",
       "    </tr>\n",
       "    <tr>\n",
       "      <th>2</th>\n",
       "      <td>-0.213710</td>\n",
       "      <td>0.69225</td>\n",
       "      <td>1</td>\n",
       "    </tr>\n",
       "    <tr>\n",
       "      <th>3</th>\n",
       "      <td>-0.375000</td>\n",
       "      <td>0.50219</td>\n",
       "      <td>1</td>\n",
       "    </tr>\n",
       "    <tr>\n",
       "      <th>4</th>\n",
       "      <td>-0.513250</td>\n",
       "      <td>0.46564</td>\n",
       "      <td>1</td>\n",
       "    </tr>\n",
       "  </tbody>\n",
       "</table>\n",
       "</div>"
      ],
      "text/plain": [
       "      test1    test2  passed/failed\n",
       "0  0.051267  0.69956              1\n",
       "1 -0.092742  0.68494              1\n",
       "2 -0.213710  0.69225              1\n",
       "3 -0.375000  0.50219              1\n",
       "4 -0.513250  0.46564              1"
      ]
     },
     "execution_count": 2,
     "metadata": {},
     "output_type": "execute_result"
    }
   ],
   "source": [
    "#read data in a dataframe\n",
    "data = pd.read_csv('dataset/ex2data2.txt', header = None, names = ['test1','test2','passed/failed'])\n",
    "data.head()"
   ]
  },
  {
   "cell_type": "code",
   "execution_count": 3,
   "metadata": {},
   "outputs": [
    {
     "data": {
      "text/plain": [
       "test1            False\n",
       "test2            False\n",
       "passed/failed    False\n",
       "dtype: bool"
      ]
     },
     "execution_count": 3,
     "metadata": {},
     "output_type": "execute_result"
    }
   ],
   "source": [
    "# check for any missing entry in data\n",
    "data.isnull().any()"
   ]
  },
  {
   "cell_type": "code",
   "execution_count": 4,
   "metadata": {},
   "outputs": [
    {
     "name": "stdout",
     "output_type": "stream",
     "text": [
      "<class 'pandas.core.frame.DataFrame'>\n",
      "RangeIndex: 118 entries, 0 to 117\n",
      "Data columns (total 3 columns):\n",
      "test1            118 non-null float64\n",
      "test2            118 non-null float64\n",
      "passed/failed    118 non-null int64\n",
      "dtypes: float64(2), int64(1)\n",
      "memory usage: 2.8 KB\n"
     ]
    }
   ],
   "source": [
    "# check for data types and general information about data\n",
    "data.info()"
   ]
  },
  {
   "cell_type": "code",
   "execution_count": 5,
   "metadata": {},
   "outputs": [
    {
     "data": {
      "image/png": "[encoded data removed]",
      "text/plain": [
       "<Figure size 432x288 with 1 Axes>"
      ]
     },
     "metadata": {},
     "output_type": "display_data"
    }
   ],
   "source": [
    "# visualize the data points\n",
    "positive = data[data['passed/failed'].isin([1])]\n",
    "negative = data[data['passed/failed'].isin([0])]\n",
    "plt.scatter(positive['test1'],positive['test2'], c = 'blue', marker = '+', label = 'Passed')\n",
    "plt.scatter(negative['test1'],negative['test2'], c = 'red', marker = 'o', label = 'Failed')\n",
    "plt.legend()\n",
    "plt.xlabel('Microship 1')\n",
    "plt.ylabel('Microchip 2')\n",
    "plt.show()"
   ]
  },
  {
   "cell_type": "markdown",
   "metadata": {},
   "source": [
    "Figure shows we can not plot a linear boundary in this data. So, simple logistic regression can not be used as simple logistic regression will draw a linear decision boundary.\n",
    "\n",
    "One way to fit the data is to create more features usinghigher order polynomials so we will map features upto sixth power, so that we will have 28 features insead of two. when classifier is trained on a higher polynomial feature vector then it will create a non linear decision boundary which is our goal in this task. But these kind of models are more susceptible to overfitting."
   ]
  },
  {
   "cell_type": "code",
   "execution_count": 19,
   "metadata": {},
   "outputs": [],
   "source": [
    "# slicing iinitial input deatures and label in X and y\n",
    "X = data.iloc[:,0:2]\n",
    "y = data.iloc[:,2]"
   ]
  },
  {
   "cell_type": "markdown",
   "metadata": {},
   "source": [
    "As from the data plot, we came to know that a linear boundary is not possible in this data set then one way to fit the data is create more features from teo features. so we will map all the polynomial features upto power 6 from two simple features."
   ]
  },
  {
   "cell_type": "code",
   "execution_count": 38,
   "metadata": {},
   "outputs": [
    {
     "data": {
      "text/plain": [
       "array([[ 1.00000000e+00,  5.12670000e-02,  6.99560000e-01, ...,\n",
       "         6.29470940e-04,  8.58939846e-03,  1.17205992e-01],\n",
       "       [ 1.00000000e+00, -9.27420000e-02,  6.84940000e-01, ...,\n",
       "         1.89305413e-03, -1.39810280e-02,  1.03255971e-01],\n",
       "       [ 1.00000000e+00, -2.13710000e-01,  6.92250000e-01, ...,\n",
       "         1.04882142e-02, -3.39734512e-02,  1.10046893e-01],\n",
       "       ...,\n",
       "       [ 1.00000000e+00, -4.84450000e-01,  9.99270000e-01, ...,\n",
       "         2.34007252e-01, -4.82684337e-01,  9.95627986e-01],\n",
       "       [ 1.00000000e+00, -6.33640000e-03,  9.99270000e-01, ...,\n",
       "         4.00328554e-05, -6.31330588e-03,  9.95627986e-01],\n",
       "       [ 1.00000000e+00,  6.32650000e-01, -3.06120000e-02, ...,\n",
       "         3.51474517e-07, -1.70067777e-08,  8.22905998e-10]])"
      ]
     },
     "execution_count": 38,
     "metadata": {},
     "output_type": "execute_result"
    }
   ],
   "source": [
    "def mapFeature(X1, X2):\n",
    "    degree = 6\n",
    "    out = np.ones(X.shape[0])[:,np.newaxis]\n",
    "    for i in range(1, degree+1):\n",
    "        for j in range(i+1):\n",
    "            out = np.hstack((out, np.multiply(np.power(X1, i-j),np.power(X2, j))[:,np.newaxis]))\n",
    "    return out\n",
    "x = mapFeature(X.iloc[:,0], X.iloc[:,1])\n",
    "x"
   ]
  },
  {
   "cell_type": "code",
   "execution_count": 8,
   "metadata": {},
   "outputs": [],
   "source": [
    "m,n = x.shape\n",
    "theta = np.zeros((n,1))"
   ]
  },
  {
   "cell_type": "code",
   "execution_count": 9,
   "metadata": {},
   "outputs": [],
   "source": [
    "y = y[:,np.newaxis]   # increasing y's dimension"
   ]
  },
  {
   "cell_type": "code",
   "execution_count": 10,
   "metadata": {},
   "outputs": [
    {
     "data": {
      "text/plain": [
       "((118, 28), (28, 1), (118, 1))"
      ]
     },
     "execution_count": 10,
     "metadata": {},
     "output_type": "execute_result"
    }
   ],
   "source": [
    "# checking shape before matrix multiplication\n",
    "x.shape, theta.shape, y.shape"
   ]
  },
  {
   "cell_type": "code",
   "execution_count": 11,
   "metadata": {},
   "outputs": [
    {
     "data": {
      "text/plain": [
       "0.5"
      ]
     },
     "execution_count": 11,
     "metadata": {},
     "output_type": "execute_result"
    }
   ],
   "source": [
    "# sigmid function\n",
    "import numpy as np\n",
    "def sigmoid(z):\n",
    "    return 1/(1 + (np.exp(-z)))\n",
    "sigmoid(0)"
   ]
  },
  {
   "cell_type": "code",
   "execution_count": 12,
   "metadata": {},
   "outputs": [],
   "source": [
    "#cost function\n",
    "def cost(theta, x,y,lambd):\n",
    "    theta_temp = theta[1:]\n",
    "    J = (-1/m) * np.sum(np.multiply(y, np.log(sigmoid(x @ theta))) \n",
    "        + np.multiply((1-y), np.log(1 - sigmoid(x @ theta)))) + ((lambd/2*m)*np.sum(np.power(theta_temp,2)))\n",
    "    return J "
   ]
  },
  {
   "cell_type": "code",
   "execution_count": 13,
   "metadata": {},
   "outputs": [
    {
     "data": {
      "text/plain": [
       "0.6931471805599454"
      ]
     },
     "execution_count": 13,
     "metadata": {},
     "output_type": "execute_result"
    }
   ],
   "source": [
    "# implementing cost function without optimized theta\n",
    "cost(theta,x,y,1)"
   ]
  },
  {
   "cell_type": "code",
   "execution_count": 14,
   "metadata": {},
   "outputs": [],
   "source": [
    "# Gradient Descent definition\n",
    "def gradient(theta, x,y ,lambd):\n",
    "    m = len(x)\n",
    "    grad = np.zeros((m,1))\n",
    "    grad = ((1/m) * x.T @ (sigmoid(x @ theta) - y))\n",
    "    grad[1:] = grad[1:] + (lambd/m) * (theta[1:])\n",
    "    return grad                         "
   ]
  },
  {
   "cell_type": "code",
   "execution_count": 15,
   "metadata": {},
   "outputs": [
    {
     "name": "stdout",
     "output_type": "stream",
     "text": [
      "[ 2.49640504e-04  1.37411664e-04  2.77015264e-04 -4.35864523e-04\n",
      " -1.62448946e-04 -2.48689519e-04  3.40749794e-05 -7.16770320e-05\n",
      " -7.34919150e-05 -2.03237594e-05 -3.10561369e-04 -1.49837678e-05\n",
      " -1.31827480e-04 -4.36565248e-05 -2.29977884e-04 -3.43138390e-05\n",
      " -4.33024117e-05 -1.87923601e-05 -5.59544625e-05 -5.21231445e-05\n",
      " -9.08338037e-05 -2.10980729e-04  2.17307928e-06 -6.54197890e-05\n",
      " -8.84386569e-07 -6.91289403e-05 -1.78749503e-05 -1.85529268e-04]\n"
     ]
    }
   ],
   "source": [
    "# optimizing cost function using scipy library\n",
    "# flatten theta and y because fmin_tnc do not work with 2 d array\n",
    "lambd = 1\n",
    "out = opt.fmin_tnc(func = cost, x0 = theta.flatten(), fprime = gradient, args = (x,y.flatten(), lambd))\n",
    "theta_optimized = out[0]\n",
    "print(theta_optimized)"
   ]
  },
  {
   "cell_type": "code",
   "execution_count": 16,
   "metadata": {},
   "outputs": [
    {
     "data": {
      "text/plain": [
       "49.152542372881356"
      ]
     },
     "execution_count": 16,
     "metadata": {},
     "output_type": "execute_result"
    }
   ],
   "source": [
    "# Checking the accuracy of model\n",
    "pred = [sigmoid(np.dot(x, theta)) >= 0.5]\n",
    "np.mean(pred == y.flatten()) * 100"
   ]
  },
  {
   "cell_type": "markdown",
   "metadata": {},
   "source": [
    "I got a low accuracy of just 49% but lets check the model by decision boundary."
   ]
  },
  {
   "cell_type": "code",
   "execution_count": 27,
   "metadata": {},
   "outputs": [
    {
     "data": {
      "image/png": "[encoded data removed]",
      "text/plain": [
       "<Figure size 432x288 with 1 Axes>"
      ]
     },
     "metadata": {},
     "output_type": "display_data"
    }
   ],
   "source": [
    "#draw decision boundary\n",
    "SIZE = 50\n",
    "u = np.linspace(-0.75, 1)\n",
    "v = np.linspace(-0.75, 1)\n",
    "z = np.zeros((SIZE, SIZE))\n",
    "def mapFeatureForPlotting(X1, X2):\n",
    " degree = 6\n",
    " out = np.ones(1)\n",
    " for i in range(1, degree + 1):\n",
    "     for j in range(i + 1):\n",
    "         out = np.hstack((out, np.multiply(np.power(X1, i-j), np.power(X2, j))))\n",
    " return out\n",
    "for i in range(SIZE):\n",
    "    for j in range(SIZE):\n",
    "       z[i, j] = np.dot(mapFeatureForPlotting(u[i], v[j]), theta_optimized)\n",
    "positive = data[data['passed/failed'].isin([1])]\n",
    "negative = data[data['passed/failed'].isin([0])]\n",
    "plt.scatter(positive['test1'],positive['test2'], c = 'blue', marker = '+', label = 'Passed')\n",
    "plt.scatter(negative['test1'],negative['test2'], c = 'red', marker = 'o', label = 'Failed')\n",
    "plt.contour(u,v,z,0)\n",
    "plt.legend()\n",
    "plt.xlabel('Microship 1')\n",
    "plt.ylabel('Microchip 2')\n",
    "plt.show()"
   ]
  },
  {
   "cell_type": "markdown",
   "metadata": {},
   "source": [
    "Decision boundary shows that model is good enough to draw a decision boundary that differentiate the data very well inspite of the fact that accuracy is low. "
   ]
  }
 ],
 "metadata": {
  "kernelspec": {
   "display_name": "Python 3",
   "language": "python",
   "name": "python3"
  },
  "language_info": {
   "codemirror_mode": {
    "name": "ipython",
    "version": 3
   },
   "file_extension": ".py",
   "mimetype": "text/x-python",
   "name": "python",
   "nbconvert_exporter": "python",
   "pygments_lexer": "ipython3",
   "version": "3.6.5"
  }
 },
 "nbformat": 4,
 "nbformat_minor": 2
}
